{
 "cells": [
  {
   "cell_type": "code",
   "execution_count": 27,
   "metadata": {
    "collapsed": true
   },
   "outputs": [],
   "source": [
    "import csv\n",
    "import pandas as pd\n",
    "\n",
    "data = pd.read_csv(\"java.csv\", delimiter=\",\")"
   ]
  },
  {
   "cell_type": "code",
   "execution_count": 46,
   "metadata": {
    "scrolled": false
   },
   "outputs": [
    {
     "data": {
      "text/plain": [
       "(55, 15)"
      ]
     },
     "execution_count": 46,
     "metadata": {},
     "output_type": "execute_result"
    }
   ],
   "source": [
    "english = []\n",
    "russian = []\n",
    "for position, group in enumerate(data[\"group\"]):\n",
    "    # print(position, group)\n",
    "    if group.count(\"English\") > 0:\n",
    "        english.append(position)\n",
    "    if group.count(\"Russian\") > 0:\n",
    "        russian.append(position)\n",
    "len(russian), len(english)"
   ]
  },
  {
   "cell_type": "code",
   "execution_count": 92,
   "metadata": {
    "scrolled": true
   },
   "outputs": [
    {
     "name": "stdout",
     "output_type": "stream",
     "text": [
      ">>> English group - group 0\n",
      "\n",
      "1. Alexey Shabanov -- @alex_ashh\n",
      "2. Ananga Thapaliya -- @eziothapaliya\n",
      "3. Artyom Yurin -- @Ortyomka\n",
      "4. Amir Subaev -- @Apostrov\n",
      "5. Susanna Gimaeva -- @SueGreen\n",
      "6. Anton Krylov -- @kartofaan\n",
      "7. Alexander Gruk -- @colours7\n",
      "8. Denis Levkovets -- @DenisLevkovets\n",
      "9. Kamil Akhmetov -- @kamilkoduo\n",
      "10. Daria Miklashevskaya -- @dasha_mks\n",
      "11. Marsel -- @phoenix_ru\n",
      "12. Shilintsev Daniil -- @Danilka9\n",
      "13. Madina Gafarova  -- @gafmn\n",
      "14. Christos Brentas -- @cbrentas\n",
      "15. Vasya Varenov -- @iambackend\n"
     ]
    }
   ],
   "source": [
    "# english group - group 0\n",
    "print(\">>> English group - group 0\\n\")\n",
    "for position, number in enumerate(english):\n",
    "    print(str(position + 1) + \". \" + data[\"name\"][number] + \" -- \" + data[\"alias\"][number])"
   ]
  },
  {
   "cell_type": "code",
   "execution_count": 107,
   "metadata": {
    "scrolled": false
   },
   "outputs": [
    {
     "name": "stdout",
     "output_type": "stream",
     "text": [
      ">>> Russian group - group 1\n",
      "\n",
      "1. Alexey Logachev -- @picroc\n",
      "2. Alexey Shabanov -- @alex_ashh\n",
      "3. Maxim Popov -- @maximpopo\n",
      "4. Aleksandra Sedova -- @sedulka\n",
      "5. Gabdrahmanov Aidar -- @aidargabdr\n",
      "6. Alimov Kamil -- @kamilalimov\n",
      "7. Elena Lukyanchikova -- @elukyanchikova\n",
      "8. Pavel Vybornov -- @heugyot\n",
      "9. Sasha Shchetinina  -- @alshchetinina\n",
      "10. Dmitry Konev -- @dmitry_konev\n",
      "11. Amir Subaev -- @Apostrov\n",
      "12. Susanna Gimaeva -- @SueGreen\n",
      "13. Anton Krylov -- @kartofaan\n",
      "14. Lilya Gabdrakhimova -- @A_Lill\n",
      "15. Lenar Gumerov -- @lenargum\n",
      "16. iskander Ibragimov -- @iskander_ibragimov\n",
      "17. Alexander Gruk -- @colours7\n",
      "18. Alena Brezhneva -- @CAYDT\n",
      "\n",
      "------ total count of participants: 18 -----------\n",
      "\n",
      ">>> Russian group - group 2\n",
      "\n",
      "19. Bekpasha Dursunov -- @bekpasha\n",
      "20. Denis Levkovets -- @DenisLevkovets\n",
      "21. Artyom Bayburin -- @Artemiooo\n",
      "22. Kamil Akhmetov -- @kamilkoduo\n",
      "23. Дворянов Даниил -- @DanielDv99\n",
      "24. Nikulin Pavel -- @indionapolis\n",
      "25. Danis Begishev -- @DanisBegishev\n",
      "26. Arina Kuznetsova -- @simple_arink\n",
      "27. Alexander Solovyov -- @AleksDaemon\n",
      "28. Irek Nazmiev -- @ireknazm\n",
      "29. Marsel -- @phoenix_ru\n",
      "30. Nurdas Sadyrbekov -- @assils\n",
      "31. Saveliy Kuvshinov -- @KuvshinovSaveliy\n",
      "32. Aliya Zagidullina -- @aliendr\n",
      "33. Abdulkhamid Muminov -- @abdelkhamiid\n",
      "34. Georgy Khorushevsky -- @georrgy\n",
      "35. Anufriyev Timur -- @anufriyev_t\n",
      "36. Ruslan Sabirov -- @russabirov1998\n",
      "\n",
      "------ total count of participants: 18 -----------\n",
      "\n",
      ">>> Russian group - group 3\n",
      "\n",
      "37. Anna Lvova -- @annalvova\n",
      "38. Максудов Ришат -- @mcsuudi\n",
      "39. Roman Bogachev  -- @concrete13377\n",
      "40. Shilintsev Daniil -- @Danilka9\n",
      "41. Igor Vahula -- @igortaq\n",
      "42. Dinar Shakurov -- @dinar_shakurov\n",
      "43. Elizaveta Kolchanova -- @kolchanovavrn\n",
      "44. Jameel Mukhutdinov -- @PoisonJoke\n",
      "45. Kamil Saitov -- @Sariell\n",
      "46. Alexander Trushin -- @skyline918\n",
      "47. Vasya Varenov -- @iambackend\n",
      "48. Khismatullun Artur -- @ahismatullin\n",
      "49. Ilya Gudumov -- @vomidug\n",
      "50. Victoria Zubrinkina -- @foolonparade\n",
      "51. Aidar Ahmetshin -- @brooky56\n",
      "52. Костенко Никита -- @N_Flamel\n",
      "53. Igor Loskutnikov -- @Jorab_2017\n",
      "54. Enes Ayan -- @eazykyube\n",
      "55. Elvira Salihova -- @elvirkavena\n",
      "\n",
      "------ total count of participants: 19 -----------\n",
      "\n"
     ]
    }
   ],
   "source": [
    "count_in_class = 15\n",
    "count_of_people = len(russian)\n",
    "count_of_groups = count_of_people // count_in_class\n",
    "current = 0\n",
    "for group_number in range(count_of_groups):\n",
    "    print(\">>> Russian group - group \" + str(group_number + 1) + \"\\n\")\n",
    "    for number in russian[count_of_people // count_of_groups * group_number : count_of_people // count_of_groups * (group_number + 1)]:\n",
    "        current += 1\n",
    "        print(str(current) + \". \" + data[\"name\"][number] + \" -- \" + data[\"alias\"][number])\n",
    "\n",
    "    helper = count_of_people // count_of_groups * (group_number + 1)\n",
    "    try:\n",
    "        position = russian[helper]\n",
    "    except:\n",
    "        pass\n",
    "    while group_number == count_of_groups - 1 and current < count_of_people:\n",
    "        current += 1\n",
    "        print(str(current) + \". \" + data[\"name\"][position] + \" -- \" + data[\"alias\"][position])\n",
    "        try:\n",
    "            helper += 1\n",
    "            position = russian[helper]\n",
    "        except:\n",
    "            break\n",
    "    print(\"\\n------\" + \" total count of participants: \" + str(current // (group_number + 1) + current % (group_number + 1)) + \" -----------\\n\")"
   ]
  },
  {
   "cell_type": "code",
   "execution_count": 134,
   "metadata": {},
   "outputs": [
    {
     "name": "stdout",
     "output_type": "stream",
     "text": [
      "Now George is belong to group 1!\n",
      "Now Tim is belong to group 2!\n",
      "Now Artemii is belong to group 3!\n"
     ]
    }
   ],
   "source": [
    "import random\n",
    "\n",
    "officers = random.choices([\"Tim Mustafin\", \"Artemii Bykov\", \"George Poputnikov\"], k=3)\n",
    "for group_number in range(count_of_groups):\n",
    "    print(\"Now \" + officers[group_number].split(\" \")[0] + \" is belong to group \" + str(group_number + 1) + \"!\")"
   ]
  }
 ],
 "metadata": {
  "kernelspec": {
   "display_name": "Python 3",
   "language": "python",
   "name": "python3"
  },
  "language_info": {
   "codemirror_mode": {
    "name": "ipython",
    "version": 3
   },
   "file_extension": ".py",
   "mimetype": "text/x-python",
   "name": "python",
   "nbconvert_exporter": "python",
   "pygments_lexer": "ipython3",
   "version": "3.6.1"
  }
 },
 "nbformat": 4,
 "nbformat_minor": 2
}
